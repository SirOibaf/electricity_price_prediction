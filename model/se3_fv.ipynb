{
 "cells": [
  {
   "cell_type": "code",
   "execution_count": 1,
   "id": "5e9c8b97-37fd-4a29-ac92-e567c94bc0ab",
   "metadata": {},
   "outputs": [],
   "source": [
    "import hopsworks"
   ]
  },
  {
   "cell_type": "code",
   "execution_count": 2,
   "id": "bbc41787-71e9-41cc-a45d-7fcedabc3bc4",
   "metadata": {},
   "outputs": [
    {
     "name": "stdout",
     "output_type": "stream",
     "text": [
      "Connected. Call `.close()` to terminate connection gracefully.\n",
      "\n",
      "Logged in to project, explore it here https://2a5f8040-2d0d-11ed-b5c5-c151c2fe58c1.cloud.hopsworks.ai:443/p/7287\n",
      "Connected. Call `.close()` to terminate connection gracefully.\n"
     ]
    },
    {
     "name": "stderr",
     "output_type": "stream",
     "text": [
      "DeprecationWarning: the imp module is deprecated in favour of importlib; see the module's documentation for alternative uses\n"
     ]
    }
   ],
   "source": [
    "project = hopsworks.login(\n",
    "    host=\"2a5f8040-2d0d-11ed-b5c5-c151c2fe58c1.cloud.hopsworks.ai\",\n",
    "    project=\"electricity\",\n",
    "    api_key_value=\"xIGaDiwBZpXxLYRQ.SgheZwqHTZteASnO1PtPMC4HMgco2OVD6VK6xZN3sKCy96FQT27rF0JbBuFivTTA\",\n",
    ")\n",
    "fs = project.get_feature_store()"
   ]
  },
  {
   "cell_type": "code",
   "execution_count": 15,
   "id": "d73568c7-3775-419a-a596-f4dcf182957e",
   "metadata": {},
   "outputs": [
    {
     "name": "stderr",
     "output_type": "stream",
     "text": [
      "VersionWarning: No version provided for getting feature group `se_power_generation`, defaulting to `1`.\n",
      "VersionWarning: No version provided for getting feature group `se_cross_region_flows`, defaulting to `1`.\n",
      "VersionWarning: No version provided for getting feature group `se_holidays`, defaulting to `1`.\n",
      "VersionWarning: No version provided for getting feature group `se_weather_fg`, defaulting to `1`.\n",
      "VersionWarning: No version provided for getting feature group `se_da_prices`, defaulting to `1`.\n"
     ]
    }
   ],
   "source": [
    "se_power_gen_fg = fs.get_feature_group(\"se_power_generation\")\n",
    "se_cross_region_flows_fg = fs.get_feature_group(\"se_cross_region_flows\")\n",
    "se_holidays_fg = fs.get_feature_group(\"se_holidays\")\n",
    "se_weather_fg = fs.get_feature_group(\"se_weather_fg\")\n",
    "\n",
    "se_prices_fg = fs.get_feature_group(\"se_da_prices\")"
   ]
  },
  {
   "cell_type": "code",
   "execution_count": 37,
   "id": "05dea5b3-49cc-43a0-8ec0-1bb752cc8119",
   "metadata": {},
   "outputs": [],
   "source": [
    "query = se_prices_fg.select_except(['zone'])\\\n",
    "    .join(se_weather_fg.select_except(['zone', 'time', 'precipitaton_type_se3']))\\\n",
    "    .join(se_holidays_fg.select_except(['zone', 'day']))\\\n",
    "    .join(se_cross_region_flows_fg.select_except(['zone', 'time', 'dk1no1se3', 'se3dk1no1']))\\\n",
    "    .join(se_power_gen_fg.select_except(['zone', 'mtu', 'marine']))"
   ]
  },
  {
   "cell_type": "code",
   "execution_count": 40,
   "id": "03f7debd-93d9-4e5d-a175-2e88e704d987",
   "metadata": {},
   "outputs": [],
   "source": [
    "transformations = {\n",
    "    'mean_temp_per_day_se3': fs.get_transformation_function(\"min_max_scaler\"),\n",
    "    'mean_wind_speed_se3': fs.get_transformation_function(\"min_max_scaler\"),\n",
    "    'precipitaton_amount_se3': fs.get_transformation_function(\"min_max_scaler\"),\n",
    "    'total_sunshine_time_se3': fs.get_transformation_function(\"min_max_scaler\"),\n",
    "    'mean_cloud_perc_se3': fs.get_transformation_function(\"min_max_scaler\"),\n",
    "    'se4se3': fs.get_transformation_function(\"min_max_scaler\"),\n",
    "    'se3se4': fs.get_transformation_function(\"min_max_scaler\"),\n",
    "    'dk1se3': fs.get_transformation_function(\"min_max_scaler\"),\n",
    "    'se3dk1': fs.get_transformation_function(\"min_max_scaler\"),\n",
    "    'se3se2': fs.get_transformation_function(\"min_max_scaler\"),\n",
    "    'se2se3': fs.get_transformation_function(\"min_max_scaler\"),\n",
    "    'fise3': fs.get_transformation_function(\"min_max_scaler\"),\n",
    "    'se3fi': fs.get_transformation_function(\"min_max_scaler\"),\n",
    "    'no1se3': fs.get_transformation_function(\"min_max_scaler\"),\n",
    "    'se3no1': fs.get_transformation_function(\"min_max_scaler\"),\n",
    "    'fossil_gas': fs.get_transformation_function(\"min_max_scaler\"),\n",
    "    'hydro_water_reservoir': fs.get_transformation_function(\"min_max_scaler\"),\n",
    "    'nuclear': fs.get_transformation_function(\"min_max_scaler\"),\n",
    "    'other': fs.get_transformation_function(\"min_max_scaler\"),\n",
    "    'solar': fs.get_transformation_function(\"min_max_scaler\"),\n",
    "    'wind_onshore': fs.get_transformation_function(\"min_max_scaler\")\n",
    "}"
   ]
  },
  {
   "cell_type": "code",
   "execution_count": 41,
   "id": "9dbd6de2-b994-43ef-8ec4-300e30146da5",
   "metadata": {},
   "outputs": [
    {
     "name": "stdout",
     "output_type": "stream",
     "text": [
      "Feature view created successfully, explore it at \n",
      "https://2a5f8040-2d0d-11ed-b5c5-c151c2fe58c1.cloud.hopsworks.ai:443/p/7287/fs/7235/fv/se3_da_pricing_model/version/5\n"
     ]
    }
   ],
   "source": [
    "fv = fs.create_feature_view(\n",
    "    name=\"se3_da_pricing_model\",\n",
    "    query=query,\n",
    "    labels=['price'],\n",
    "    transformation_functions=transformations\n",
    ")"
   ]
  },
  {
   "cell_type": "code",
   "execution_count": 43,
   "id": "30126317-f059-47d0-9a09-88ca74e1ee66",
   "metadata": {},
   "outputs": [
    {
     "name": "stdout",
     "output_type": "stream",
     "text": [
      "Training dataset job started successfully, you can follow the progress at \n",
      "https://2a5f8040-2d0d-11ed-b5c5-c151c2fe58c1.cloud.hopsworks.ai/p/7287/jobs/named/se3_da_pricing_model_5_1_create_fv_td_08112022222626/executions\n"
     ]
    },
    {
     "name": "stderr",
     "output_type": "stream",
     "text": [
      "VersionWarning: Incremented version to `1`.\n"
     ]
    },
    {
     "data": {
      "text/plain": [
       "(1, <hsfs.core.job.Job at 0x7f3e3bdf8280>)"
      ]
     },
     "execution_count": 43,
     "metadata": {},
     "output_type": "execute_result"
    }
   ],
   "source": [
    "fv.create_training_data(\n",
    "    start_time = \"20220101\",\n",
    "    end_time = \"20220930\",\n",
    "    description='Electricity price prediction training dataset',\n",
    "    data_format=\"csv\",\n",
    "    coalesce=True,\n",
    ")"
   ]
  },
  {
   "cell_type": "code",
   "execution_count": null,
   "id": "93d939ed-eb72-41e9-8e25-7e6dd947c957",
   "metadata": {},
   "outputs": [
    {
     "name": "stdout",
     "output_type": "stream",
     "text": [
      "Training dataset job started successfully, you can follow the progress at \n",
      "https://2a5f8040-2d0d-11ed-b5c5-c151c2fe58c1.cloud.hopsworks.ai/p/7287/jobs/named/se3_da_pricing_model_5_2_create_fv_td_08112022224130/executions\n"
     ]
    },
    {
     "name": "stderr",
     "output_type": "stream",
     "text": [
      "VersionWarning: Incremented version to `2`.\n"
     ]
    },
    {
     "data": {
      "text/plain": [
       "(2, <hsfs.core.job.Job at 0x7f3e3c70e280>)"
      ]
     },
     "execution_count": 44,
     "metadata": {},
     "output_type": "execute_result"
    }
   ],
   "source": [
    "fv.create_training_data(\n",
    "    start_time = \"20221001\",\n",
    "    end_time = \"20221015\",\n",
    "    description='Electricity price prediction training dataset',\n",
    "    data_format=\"csv\",\n",
    "    coalesce=True,\n",
    ")"
   ]
  },
  {
   "cell_type": "code",
   "execution_count": null,
   "id": "f8ec117b-34d2-4262-b03d-73c33791c382",
   "metadata": {},
   "outputs": [],
   "source": []
  }
 ],
 "metadata": {
  "kernelspec": {
   "display_name": "Python 3 (ipykernel)",
   "language": "python",
   "name": "python3"
  },
  "language_info": {
   "codemirror_mode": {
    "name": "ipython",
    "version": 3
   },
   "file_extension": ".py",
   "mimetype": "text/x-python",
   "name": "python",
   "nbconvert_exporter": "python",
   "pygments_lexer": "ipython3",
   "version": "3.9.13"
  }
 },
 "nbformat": 4,
 "nbformat_minor": 5
}
