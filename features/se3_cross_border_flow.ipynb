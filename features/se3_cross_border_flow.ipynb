{
 "cells": [
  {
   "cell_type": "code",
   "execution_count": 3,
   "id": "bacb88b1-5268-47b6-a5fc-6a26a59de674",
   "metadata": {},
   "outputs": [],
   "source": [
    "import hopsworks\n",
    "import glob\n",
    "import pandas as pd"
   ]
  },
  {
   "cell_type": "code",
   "execution_count": 2,
   "id": "1b9a1567-bf89-4f18-9afc-1670312a34f3",
   "metadata": {},
   "outputs": [
    {
     "name": "stdout",
     "output_type": "stream",
     "text": [
      "Connected. Call `.close()` to terminate connection gracefully.\n",
      "\n",
      "Logged in to project, explore it here https://2a5f8040-2d0d-11ed-b5c5-c151c2fe58c1.cloud.hopsworks.ai:443/p/7287\n"
     ]
    },
    {
     "name": "stderr",
     "output_type": "stream",
     "text": [
      "DeprecationWarning: the imp module is deprecated in favour of importlib; see the module's documentation for alternative uses\n"
     ]
    },
    {
     "name": "stdout",
     "output_type": "stream",
     "text": [
      "Connected. Call `.close()` to terminate connection gracefully.\n"
     ]
    }
   ],
   "source": [
    "project = hopsworks.login(\n",
    "    host=\"2a5f8040-2d0d-11ed-b5c5-c151c2fe58c1.cloud.hopsworks.ai\",\n",
    "    project=\"electricity\",\n",
    "    api_key_value=\"xIGaDiwBZpXxLYRQ.SgheZwqHTZteASnO1PtPMC4HMgco2OVD6VK6xZN3sKCy96FQT27rF0JbBuFivTTA\",\n",
    ")\n",
    "fs = project.get_feature_store()"
   ]
  },
  {
   "cell_type": "code",
   "execution_count": 67,
   "id": "d7254796-157e-4115-a3eb-40320fcc130e",
   "metadata": {},
   "outputs": [],
   "source": [
    "flow_dfs = [pd.read_csv(f) for f in glob.glob(\"data/Cross*\")]\n",
    "flow_df = flow_dfs[0]\n",
    "for df in flow_dfs[1:]:\n",
    "    flow_df = flow_df.merge(df)"
   ]
  },
  {
   "cell_type": "code",
   "execution_count": 68,
   "id": "30b2397f-02e2-4d6a-97d3-f0589fa16060",
   "metadata": {},
   "outputs": [
    {
     "data": {
      "text/html": [
       "<div>\n",
       "<style scoped>\n",
       "    .dataframe tbody tr th:only-of-type {\n",
       "        vertical-align: middle;\n",
       "    }\n",
       "\n",
       "    .dataframe tbody tr th {\n",
       "        vertical-align: top;\n",
       "    }\n",
       "\n",
       "    .dataframe thead th {\n",
       "        text-align: right;\n",
       "    }\n",
       "</style>\n",
       "<table border=\"1\" class=\"dataframe\">\n",
       "  <thead>\n",
       "    <tr style=\"text-align: right;\">\n",
       "      <th></th>\n",
       "      <th>Time (CET/CEST)</th>\n",
       "      <th>BZN|DK1-NO1 &gt; BZN|SE3 [MW]</th>\n",
       "      <th>BZN|SE3 &gt; BZN|DK1-NO1 [MW]</th>\n",
       "      <th>BZN|SE4 &gt; BZN|SE3 [MW]</th>\n",
       "      <th>BZN|SE3 &gt; BZN|SE4 [MW]</th>\n",
       "      <th>BZN|DK1 &gt; BZN|SE3 [MW]</th>\n",
       "      <th>BZN|SE3 &gt; BZN|DK1 [MW]</th>\n",
       "      <th>BZN|SE3 &gt; BZN|SE2 [MW]</th>\n",
       "      <th>BZN|SE2 &gt; BZN|SE3 [MW]</th>\n",
       "      <th>BZN|FI &gt; BZN|SE3 [MW]</th>\n",
       "      <th>BZN|SE3 &gt; BZN|FI [MW]</th>\n",
       "      <th>BZN|NO1 &gt; BZN|SE3 [MW]</th>\n",
       "      <th>BZN|SE3 &gt; BZN|NO1 [MW]</th>\n",
       "    </tr>\n",
       "  </thead>\n",
       "  <tbody>\n",
       "    <tr>\n",
       "      <th>0</th>\n",
       "      <td>01.01.2022 00:00 - 01.01.2022 01:00</td>\n",
       "      <td>n/e</td>\n",
       "      <td>n/e</td>\n",
       "      <td>0</td>\n",
       "      <td>1601</td>\n",
       "      <td>0</td>\n",
       "      <td>407</td>\n",
       "      <td>0</td>\n",
       "      <td>4836</td>\n",
       "      <td>0</td>\n",
       "      <td>837</td>\n",
       "      <td>0</td>\n",
       "      <td>1038</td>\n",
       "    </tr>\n",
       "    <tr>\n",
       "      <th>1</th>\n",
       "      <td>01.01.2022 01:00 - 01.01.2022 02:00</td>\n",
       "      <td>n/e</td>\n",
       "      <td>n/e</td>\n",
       "      <td>0</td>\n",
       "      <td>1341</td>\n",
       "      <td>0</td>\n",
       "      <td>400</td>\n",
       "      <td>0</td>\n",
       "      <td>4421</td>\n",
       "      <td>0</td>\n",
       "      <td>625</td>\n",
       "      <td>0</td>\n",
       "      <td>1065</td>\n",
       "    </tr>\n",
       "    <tr>\n",
       "      <th>2</th>\n",
       "      <td>01.01.2022 02:00 - 01.01.2022 03:00</td>\n",
       "      <td>n/e</td>\n",
       "      <td>n/e</td>\n",
       "      <td>0</td>\n",
       "      <td>1788</td>\n",
       "      <td>0</td>\n",
       "      <td>393</td>\n",
       "      <td>0</td>\n",
       "      <td>4618</td>\n",
       "      <td>0</td>\n",
       "      <td>495</td>\n",
       "      <td>0</td>\n",
       "      <td>927</td>\n",
       "    </tr>\n",
       "    <tr>\n",
       "      <th>3</th>\n",
       "      <td>01.01.2022 03:00 - 01.01.2022 04:00</td>\n",
       "      <td>n/e</td>\n",
       "      <td>n/e</td>\n",
       "      <td>0</td>\n",
       "      <td>2349</td>\n",
       "      <td>0</td>\n",
       "      <td>293</td>\n",
       "      <td>0</td>\n",
       "      <td>4749</td>\n",
       "      <td>0</td>\n",
       "      <td>344</td>\n",
       "      <td>0</td>\n",
       "      <td>748</td>\n",
       "    </tr>\n",
       "    <tr>\n",
       "      <th>4</th>\n",
       "      <td>01.01.2022 04:00 - 01.01.2022 05:00</td>\n",
       "      <td>n/e</td>\n",
       "      <td>n/e</td>\n",
       "      <td>0</td>\n",
       "      <td>1798</td>\n",
       "      <td>0</td>\n",
       "      <td>302</td>\n",
       "      <td>0</td>\n",
       "      <td>4229</td>\n",
       "      <td>0</td>\n",
       "      <td>200</td>\n",
       "      <td>0</td>\n",
       "      <td>918</td>\n",
       "    </tr>\n",
       "    <tr>\n",
       "      <th>...</th>\n",
       "      <td>...</td>\n",
       "      <td>...</td>\n",
       "      <td>...</td>\n",
       "      <td>...</td>\n",
       "      <td>...</td>\n",
       "      <td>...</td>\n",
       "      <td>...</td>\n",
       "      <td>...</td>\n",
       "      <td>...</td>\n",
       "      <td>...</td>\n",
       "      <td>...</td>\n",
       "      <td>...</td>\n",
       "      <td>...</td>\n",
       "    </tr>\n",
       "    <tr>\n",
       "      <th>8818</th>\n",
       "      <td>31.12.2022 19:00 - 31.12.2022 20:00</td>\n",
       "      <td>n/e</td>\n",
       "      <td>n/e</td>\n",
       "      <td>-</td>\n",
       "      <td>-</td>\n",
       "      <td>-</td>\n",
       "      <td>-</td>\n",
       "      <td>-</td>\n",
       "      <td>-</td>\n",
       "      <td>-</td>\n",
       "      <td>-</td>\n",
       "      <td>-</td>\n",
       "      <td>-</td>\n",
       "    </tr>\n",
       "    <tr>\n",
       "      <th>8819</th>\n",
       "      <td>31.12.2022 20:00 - 31.12.2022 21:00</td>\n",
       "      <td>n/e</td>\n",
       "      <td>n/e</td>\n",
       "      <td>-</td>\n",
       "      <td>-</td>\n",
       "      <td>-</td>\n",
       "      <td>-</td>\n",
       "      <td>-</td>\n",
       "      <td>-</td>\n",
       "      <td>-</td>\n",
       "      <td>-</td>\n",
       "      <td>-</td>\n",
       "      <td>-</td>\n",
       "    </tr>\n",
       "    <tr>\n",
       "      <th>8820</th>\n",
       "      <td>31.12.2022 21:00 - 31.12.2022 22:00</td>\n",
       "      <td>n/e</td>\n",
       "      <td>n/e</td>\n",
       "      <td>-</td>\n",
       "      <td>-</td>\n",
       "      <td>-</td>\n",
       "      <td>-</td>\n",
       "      <td>-</td>\n",
       "      <td>-</td>\n",
       "      <td>-</td>\n",
       "      <td>-</td>\n",
       "      <td>-</td>\n",
       "      <td>-</td>\n",
       "    </tr>\n",
       "    <tr>\n",
       "      <th>8821</th>\n",
       "      <td>31.12.2022 22:00 - 31.12.2022 23:00</td>\n",
       "      <td>n/e</td>\n",
       "      <td>n/e</td>\n",
       "      <td>-</td>\n",
       "      <td>-</td>\n",
       "      <td>-</td>\n",
       "      <td>-</td>\n",
       "      <td>-</td>\n",
       "      <td>-</td>\n",
       "      <td>-</td>\n",
       "      <td>-</td>\n",
       "      <td>-</td>\n",
       "      <td>-</td>\n",
       "    </tr>\n",
       "    <tr>\n",
       "      <th>8822</th>\n",
       "      <td>31.12.2022 23:00 - 01.01.2023 00:00</td>\n",
       "      <td>n/e</td>\n",
       "      <td>n/e</td>\n",
       "      <td>-</td>\n",
       "      <td>-</td>\n",
       "      <td>-</td>\n",
       "      <td>-</td>\n",
       "      <td>-</td>\n",
       "      <td>-</td>\n",
       "      <td>-</td>\n",
       "      <td>-</td>\n",
       "      <td>-</td>\n",
       "      <td>-</td>\n",
       "    </tr>\n",
       "  </tbody>\n",
       "</table>\n",
       "<p>8823 rows × 13 columns</p>\n",
       "</div>"
      ],
      "text/plain": [
       "                          Time (CET/CEST) BZN|DK1-NO1 > BZN|SE3 [MW]  \\\n",
       "0     01.01.2022 00:00 - 01.01.2022 01:00                        n/e   \n",
       "1     01.01.2022 01:00 - 01.01.2022 02:00                        n/e   \n",
       "2     01.01.2022 02:00 - 01.01.2022 03:00                        n/e   \n",
       "3     01.01.2022 03:00 - 01.01.2022 04:00                        n/e   \n",
       "4     01.01.2022 04:00 - 01.01.2022 05:00                        n/e   \n",
       "...                                   ...                        ...   \n",
       "8818  31.12.2022 19:00 - 31.12.2022 20:00                        n/e   \n",
       "8819  31.12.2022 20:00 - 31.12.2022 21:00                        n/e   \n",
       "8820  31.12.2022 21:00 - 31.12.2022 22:00                        n/e   \n",
       "8821  31.12.2022 22:00 - 31.12.2022 23:00                        n/e   \n",
       "8822  31.12.2022 23:00 - 01.01.2023 00:00                        n/e   \n",
       "\n",
       "     BZN|SE3 > BZN|DK1-NO1 [MW] BZN|SE4 > BZN|SE3 [MW] BZN|SE3 > BZN|SE4 [MW]  \\\n",
       "0                           n/e                      0                   1601   \n",
       "1                           n/e                      0                   1341   \n",
       "2                           n/e                      0                   1788   \n",
       "3                           n/e                      0                   2349   \n",
       "4                           n/e                      0                   1798   \n",
       "...                         ...                    ...                    ...   \n",
       "8818                        n/e                      -                      -   \n",
       "8819                        n/e                      -                      -   \n",
       "8820                        n/e                      -                      -   \n",
       "8821                        n/e                      -                      -   \n",
       "8822                        n/e                      -                      -   \n",
       "\n",
       "     BZN|DK1 > BZN|SE3 [MW] BZN|SE3 > BZN|DK1 [MW] BZN|SE3 > BZN|SE2 [MW]  \\\n",
       "0                         0                    407                      0   \n",
       "1                         0                    400                      0   \n",
       "2                         0                    393                      0   \n",
       "3                         0                    293                      0   \n",
       "4                         0                    302                      0   \n",
       "...                     ...                    ...                    ...   \n",
       "8818                      -                      -                      -   \n",
       "8819                      -                      -                      -   \n",
       "8820                      -                      -                      -   \n",
       "8821                      -                      -                      -   \n",
       "8822                      -                      -                      -   \n",
       "\n",
       "     BZN|SE2 > BZN|SE3 [MW] BZN|FI > BZN|SE3 [MW] BZN|SE3 > BZN|FI [MW]  \\\n",
       "0                      4836                     0                   837   \n",
       "1                      4421                     0                   625   \n",
       "2                      4618                     0                   495   \n",
       "3                      4749                     0                   344   \n",
       "4                      4229                     0                   200   \n",
       "...                     ...                   ...                   ...   \n",
       "8818                      -                     -                     -   \n",
       "8819                      -                     -                     -   \n",
       "8820                      -                     -                     -   \n",
       "8821                      -                     -                     -   \n",
       "8822                      -                     -                     -   \n",
       "\n",
       "     BZN|NO1 > BZN|SE3 [MW] BZN|SE3 > BZN|NO1 [MW]  \n",
       "0                         0                   1038  \n",
       "1                         0                   1065  \n",
       "2                         0                    927  \n",
       "3                         0                    748  \n",
       "4                         0                    918  \n",
       "...                     ...                    ...  \n",
       "8818                      -                      -  \n",
       "8819                      -                      -  \n",
       "8820                      -                      -  \n",
       "8821                      -                      -  \n",
       "8822                      -                      -  \n",
       "\n",
       "[8823 rows x 13 columns]"
      ]
     },
     "execution_count": 68,
     "metadata": {},
     "output_type": "execute_result"
    }
   ],
   "source": [
    "flow_df"
   ]
  },
  {
   "cell_type": "code",
   "execution_count": 69,
   "id": "f3245b0e-cef5-43b4-ad42-a52366cbaf6f",
   "metadata": {},
   "outputs": [],
   "source": [
    "flow_df.rename(columns={'Time (CET/CEST)': 'time'}, inplace=True)\n",
    "flow_df['time'] = pd.to_datetime(flow_df['time'].apply(lambda x: x.split(\"-\")[0].strip()), format='%d.%m.%Y %H:%M')"
   ]
  },
  {
   "cell_type": "code",
   "execution_count": 70,
   "id": "157a29bc-8c88-4030-a942-6c7fafacd070",
   "metadata": {},
   "outputs": [],
   "source": [
    "flow_df.rename(columns={c: c.replace(\"BZN|\", \"\").replace(\"[MW]\", \"\").replace(\" > \", \"\").replace(\"-\", \"\").replace(\" \", \"\") for c in flow_df.columns}, inplace=True)"
   ]
  },
  {
   "cell_type": "code",
   "execution_count": 71,
   "id": "af25ac83-817e-4f1f-bd37-2e86240d9d72",
   "metadata": {},
   "outputs": [],
   "source": [
    "flow_columns = [c for c in flow_df.columns if c not in ['time']]"
   ]
  },
  {
   "cell_type": "code",
   "execution_count": 72,
   "id": "34d33b03-b51c-4067-8ea2-8aefdb154308",
   "metadata": {},
   "outputs": [],
   "source": [
    "for column in flow_columns:\n",
    "    # Cast to float\n",
    "    flow_df[column] = pd.to_numeric(flow_df[column], errors=\"coerce\").fillna(0)\n",
    "    \n",
    "    # Invert outgoing flows\n",
    "    if not column.startswith(\"SE3\"):\n",
    "        flow_df[column] = flow_df[column] * -1"
   ]
  },
  {
   "cell_type": "code",
   "execution_count": 73,
   "id": "af6a0e15-17c0-4422-a2fd-b54f4c618938",
   "metadata": {},
   "outputs": [],
   "source": [
    "flow_df['zone'] = \"SE3\""
   ]
  },
  {
   "cell_type": "code",
   "execution_count": 74,
   "id": "ba4b0bed-7122-4bbe-b5c7-ad141b244304",
   "metadata": {},
   "outputs": [],
   "source": [
    "se_flow_fg  = fs.get_or_create_feature_group(\n",
    "    name=\"se_cross_region_flows\",\n",
    "    version=1,\n",
    "    description=\"Sweden cross region flows\",\n",
    "    primary_key=[\"zone\"],\n",
    "    event_time=\"time\",\n",
    "    online_enabled=False,\n",
    "    statistics_config={\n",
    "        'histograms': True, \n",
    "        'correlations': True\n",
    "    }\n",
    ")"
   ]
  },
  {
   "cell_type": "code",
   "execution_count": 75,
   "id": "9ed5f28f-6e2f-4ef4-91ab-25f12a5d351a",
   "metadata": {},
   "outputs": [
    {
     "name": "stderr",
     "output_type": "stream",
     "text": [
      "FeatureGroupWarning: The ingested dataframe contains upper case letters in feature names: `['DK1NO1SE3', 'SE3DK1NO1', 'SE4SE3', 'SE3SE4', 'DK1SE3', 'SE3DK1', 'SE3SE2', 'SE2SE3', 'FISE3', 'SE3FI', 'NO1SE3', 'SE3NO1']`. Feature names are sanitized to lower case in the feature store.\n"
     ]
    },
    {
     "name": "stdout",
     "output_type": "stream",
     "text": [
      "Feature Group created successfully, explore it at \n",
      "https://2a5f8040-2d0d-11ed-b5c5-c151c2fe58c1.cloud.hopsworks.ai:443/p/7287/fs/7235/fg/14356\n"
     ]
    },
    {
     "data": {
      "application/vnd.jupyter.widget-view+json": {
       "model_id": "2b7bce20f58d4b0ea13a7a871fbe9602",
       "version_major": 2,
       "version_minor": 0
      },
      "text/plain": [
       "Uploading Dataframe: 0.00% |          | Rows 0/8823 | Elapsed Time: 00:00 | Remaining Time: ?"
      ]
     },
     "metadata": {},
     "output_type": "display_data"
    },
    {
     "name": "stdout",
     "output_type": "stream",
     "text": [
      "Launching offline feature group backfill job...\n",
      "Backfill Job started successfully, you can follow the progress at \n",
      "https://2a5f8040-2d0d-11ed-b5c5-c151c2fe58c1.cloud.hopsworks.ai/p/7287/jobs/named/se_cross_region_flows_1_offline_fg_backfill/executions\n"
     ]
    },
    {
     "data": {
      "text/plain": [
       "(<hsfs.core.job.Job at 0x7fe894bd2970>, None)"
      ]
     },
     "execution_count": 75,
     "metadata": {},
     "output_type": "execute_result"
    }
   ],
   "source": [
    "se_flow_fg.insert(flow_df)"
   ]
  },
  {
   "cell_type": "code",
   "execution_count": null,
   "id": "abd33979-0692-44be-b96f-ca531e03f2fb",
   "metadata": {},
   "outputs": [],
   "source": []
  }
 ],
 "metadata": {
  "kernelspec": {
   "display_name": "Python 3 (ipykernel)",
   "language": "python",
   "name": "python3"
  },
  "language_info": {
   "codemirror_mode": {
    "name": "ipython",
    "version": 3
   },
   "file_extension": ".py",
   "mimetype": "text/x-python",
   "name": "python",
   "nbconvert_exporter": "python",
   "pygments_lexer": "ipython3",
   "version": "3.9.13"
  }
 },
 "nbformat": 4,
 "nbformat_minor": 5
}
