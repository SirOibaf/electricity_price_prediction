{
 "cells": [
  {
   "cell_type": "code",
   "execution_count": 8,
   "id": "0f8a19ba-930b-4545-8cfe-7a5b93368ea7",
   "metadata": {},
   "outputs": [],
   "source": [
    "import hopsworks\n",
    "import pandas as pd\n",
    "import numpy as np"
   ]
  },
  {
   "cell_type": "code",
   "execution_count": 9,
   "id": "b54fad2a-4e15-4afd-9c53-bca0820089bd",
   "metadata": {},
   "outputs": [
    {
     "name": "stdout",
     "output_type": "stream",
     "text": [
      "Connected. Call `.close()` to terminate connection gracefully.\n",
      "\n",
      "Logged in to project, explore it here https://2a5f8040-2d0d-11ed-b5c5-c151c2fe58c1.cloud.hopsworks.ai:443/p/7287\n",
      "Connected. Call `.close()` to terminate connection gracefully.\n"
     ]
    },
    {
     "name": "stderr",
     "output_type": "stream",
     "text": [
      "DeprecationWarning: the imp module is deprecated in favour of importlib; see the module's documentation for alternative uses\n"
     ]
    }
   ],
   "source": [
    "project = hopsworks.login(\n",
    "    host=\"2a5f8040-2d0d-11ed-b5c5-c151c2fe58c1.cloud.hopsworks.ai\",\n",
    "    project=\"electricity\",\n",
    "    api_key_value=\"xIGaDiwBZpXxLYRQ.SgheZwqHTZteASnO1PtPMC4HMgco2OVD6VK6xZN3sKCy96FQT27rF0JbBuFivTTA\",\n",
    ")\n",
    "fs = project.get_feature_store()"
   ]
  },
  {
   "cell_type": "code",
   "execution_count": 22,
   "id": "2900e223-0552-4161-a210-cfed535e0890",
   "metadata": {},
   "outputs": [],
   "source": [
    "# Read local csv file containing holidays\n",
    "se3_power_gen_df = pd.read_csv(\"data/Actual Generation per Production Type_202201010000-202301010000(1).csv\")"
   ]
  },
  {
   "cell_type": "code",
   "execution_count": 23,
   "id": "2b86045f-879a-489e-9c2d-e33186b31d7c",
   "metadata": {},
   "outputs": [],
   "source": [
    "# Remove columns not needed for SE3 - SE3 doesn't use this type of power\n",
    "se3_power_gen_df.drop(['Area',\n",
    "                      'Biomass  - Actual Aggregated [MW]',\n",
    "                      'Fossil Brown coal/Lignite  - Actual Aggregated [MW]',\n",
    "                      'Fossil Coal-derived gas  - Actual Aggregated [MW]',\n",
    "                      'Fossil Hard coal  - Actual Aggregated [MW]',\n",
    "                      'Fossil Oil  - Actual Aggregated [MW]',\n",
    "                      'Fossil Oil shale  - Actual Aggregated [MW]',\n",
    "                      'Fossil Peat  - Actual Aggregated [MW]',\n",
    "                      'Geothermal  - Actual Aggregated [MW]',\n",
    "                      'Hydro Pumped Storage  - Actual Aggregated [MW]',\n",
    "                      'Hydro Pumped Storage  - Actual Consumption [MW]',\n",
    "                      'Hydro Run-of-river and poundage  - Actual Aggregated [MW]',\n",
    "                      'Other renewable  - Actual Aggregated [MW]',\n",
    "                      'Waste  - Actual Aggregated [MW]',\n",
    "                      'Wind Offshore  - Actual Aggregated [MW]'], axis=1, inplace=True)"
   ]
  },
  {
   "cell_type": "code",
   "execution_count": 24,
   "id": "2504d9de-8758-4a23-a854-b7feaaf7c6de",
   "metadata": {},
   "outputs": [],
   "source": [
    "se3_power_gen_df.rename(columns={c: c.split(\"-\")[0].strip().replace(\" \", \"_\") for c in se3_power_gen_df.columns}, inplace=True)"
   ]
  },
  {
   "cell_type": "code",
   "execution_count": 25,
   "id": "7bedee29-50f0-4378-957c-809379c52105",
   "metadata": {},
   "outputs": [],
   "source": [
    "se3_power_gen_df['zone'] = \"SE3\""
   ]
  },
  {
   "cell_type": "code",
   "execution_count": 26,
   "id": "069cf2ea-e9b6-40cb-8674-46b6a80ad006",
   "metadata": {},
   "outputs": [],
   "source": [
    "se3_power_gen_df['MTU'] = pd.to_datetime(se3_power_gen_df['MTU'].apply(lambda x: x.split(\"-\")[0].strip()), format='%d.%m.%Y %H:%M')"
   ]
  },
  {
   "cell_type": "code",
   "execution_count": 27,
   "id": "2144d536-2176-4e03-b87a-a3469bb73b72",
   "metadata": {},
   "outputs": [],
   "source": [
    "for column in [c for c in se3_power_gen_df.columns if c not in ['MTU', 'zone']]:\n",
    "    se3_power_gen_df[column] = pd.to_numeric(se3_power_gen_df[column], errors=\"coerce\").fillna(0)"
   ]
  },
  {
   "cell_type": "code",
   "execution_count": 28,
   "id": "c34ccac3-6942-44c7-85e6-f752b1495d7e",
   "metadata": {},
   "outputs": [
    {
     "data": {
      "text/html": [
       "<div>\n",
       "<style scoped>\n",
       "    .dataframe tbody tr th:only-of-type {\n",
       "        vertical-align: middle;\n",
       "    }\n",
       "\n",
       "    .dataframe tbody tr th {\n",
       "        vertical-align: top;\n",
       "    }\n",
       "\n",
       "    .dataframe thead th {\n",
       "        text-align: right;\n",
       "    }\n",
       "</style>\n",
       "<table border=\"1\" class=\"dataframe\">\n",
       "  <thead>\n",
       "    <tr style=\"text-align: right;\">\n",
       "      <th></th>\n",
       "      <th>MTU</th>\n",
       "      <th>Fossil_Gas</th>\n",
       "      <th>Hydro_Water_Reservoir</th>\n",
       "      <th>Marine</th>\n",
       "      <th>Nuclear</th>\n",
       "      <th>Other</th>\n",
       "      <th>Solar</th>\n",
       "      <th>Wind_Onshore</th>\n",
       "      <th>zone</th>\n",
       "    </tr>\n",
       "  </thead>\n",
       "  <tbody>\n",
       "    <tr>\n",
       "      <th>9</th>\n",
       "      <td>2022-01-01 09:00:00</td>\n",
       "      <td>0.0</td>\n",
       "      <td>926.0</td>\n",
       "      <td>0.0</td>\n",
       "      <td>5840.0</td>\n",
       "      <td>1028.0</td>\n",
       "      <td>1.0</td>\n",
       "      <td>397.0</td>\n",
       "      <td>SE3</td>\n",
       "    </tr>\n",
       "    <tr>\n",
       "      <th>10</th>\n",
       "      <td>2022-01-01 10:00:00</td>\n",
       "      <td>0.0</td>\n",
       "      <td>944.0</td>\n",
       "      <td>0.0</td>\n",
       "      <td>5840.0</td>\n",
       "      <td>1082.0</td>\n",
       "      <td>4.0</td>\n",
       "      <td>307.0</td>\n",
       "      <td>SE3</td>\n",
       "    </tr>\n",
       "    <tr>\n",
       "      <th>11</th>\n",
       "      <td>2022-01-01 11:00:00</td>\n",
       "      <td>0.0</td>\n",
       "      <td>953.0</td>\n",
       "      <td>0.0</td>\n",
       "      <td>5884.0</td>\n",
       "      <td>1107.0</td>\n",
       "      <td>7.0</td>\n",
       "      <td>252.0</td>\n",
       "      <td>SE3</td>\n",
       "    </tr>\n",
       "    <tr>\n",
       "      <th>12</th>\n",
       "      <td>2022-01-01 12:00:00</td>\n",
       "      <td>0.0</td>\n",
       "      <td>963.0</td>\n",
       "      <td>0.0</td>\n",
       "      <td>6062.0</td>\n",
       "      <td>1111.0</td>\n",
       "      <td>6.0</td>\n",
       "      <td>230.0</td>\n",
       "      <td>SE3</td>\n",
       "    </tr>\n",
       "    <tr>\n",
       "      <th>13</th>\n",
       "      <td>2022-01-01 13:00:00</td>\n",
       "      <td>0.0</td>\n",
       "      <td>965.0</td>\n",
       "      <td>0.0</td>\n",
       "      <td>6208.0</td>\n",
       "      <td>1113.0</td>\n",
       "      <td>4.0</td>\n",
       "      <td>221.0</td>\n",
       "      <td>SE3</td>\n",
       "    </tr>\n",
       "    <tr>\n",
       "      <th>...</th>\n",
       "      <td>...</td>\n",
       "      <td>...</td>\n",
       "      <td>...</td>\n",
       "      <td>...</td>\n",
       "      <td>...</td>\n",
       "      <td>...</td>\n",
       "      <td>...</td>\n",
       "      <td>...</td>\n",
       "      <td>...</td>\n",
       "    </tr>\n",
       "    <tr>\n",
       "      <th>6158</th>\n",
       "      <td>2022-09-14 14:00:00</td>\n",
       "      <td>7.0</td>\n",
       "      <td>464.0</td>\n",
       "      <td>0.0</td>\n",
       "      <td>4574.0</td>\n",
       "      <td>391.0</td>\n",
       "      <td>224.0</td>\n",
       "      <td>934.0</td>\n",
       "      <td>SE3</td>\n",
       "    </tr>\n",
       "    <tr>\n",
       "      <th>6159</th>\n",
       "      <td>2022-09-14 15:00:00</td>\n",
       "      <td>17.0</td>\n",
       "      <td>457.0</td>\n",
       "      <td>0.0</td>\n",
       "      <td>4575.0</td>\n",
       "      <td>376.0</td>\n",
       "      <td>180.0</td>\n",
       "      <td>968.0</td>\n",
       "      <td>SE3</td>\n",
       "    </tr>\n",
       "    <tr>\n",
       "      <th>6160</th>\n",
       "      <td>2022-09-14 16:00:00</td>\n",
       "      <td>0.0</td>\n",
       "      <td>451.0</td>\n",
       "      <td>0.0</td>\n",
       "      <td>4573.0</td>\n",
       "      <td>367.0</td>\n",
       "      <td>110.0</td>\n",
       "      <td>1024.0</td>\n",
       "      <td>SE3</td>\n",
       "    </tr>\n",
       "    <tr>\n",
       "      <th>6161</th>\n",
       "      <td>2022-09-14 17:00:00</td>\n",
       "      <td>0.0</td>\n",
       "      <td>441.0</td>\n",
       "      <td>0.0</td>\n",
       "      <td>4574.0</td>\n",
       "      <td>366.0</td>\n",
       "      <td>52.0</td>\n",
       "      <td>985.0</td>\n",
       "      <td>SE3</td>\n",
       "    </tr>\n",
       "    <tr>\n",
       "      <th>6162</th>\n",
       "      <td>2022-09-14 18:00:00</td>\n",
       "      <td>0.0</td>\n",
       "      <td>438.0</td>\n",
       "      <td>0.0</td>\n",
       "      <td>4575.0</td>\n",
       "      <td>358.0</td>\n",
       "      <td>12.0</td>\n",
       "      <td>959.0</td>\n",
       "      <td>SE3</td>\n",
       "    </tr>\n",
       "  </tbody>\n",
       "</table>\n",
       "<p>3523 rows × 9 columns</p>\n",
       "</div>"
      ],
      "text/plain": [
       "                     MTU  Fossil_Gas  Hydro_Water_Reservoir  Marine  Nuclear  \\\n",
       "9    2022-01-01 09:00:00         0.0                  926.0     0.0   5840.0   \n",
       "10   2022-01-01 10:00:00         0.0                  944.0     0.0   5840.0   \n",
       "11   2022-01-01 11:00:00         0.0                  953.0     0.0   5884.0   \n",
       "12   2022-01-01 12:00:00         0.0                  963.0     0.0   6062.0   \n",
       "13   2022-01-01 13:00:00         0.0                  965.0     0.0   6208.0   \n",
       "...                  ...         ...                    ...     ...      ...   \n",
       "6158 2022-09-14 14:00:00         7.0                  464.0     0.0   4574.0   \n",
       "6159 2022-09-14 15:00:00        17.0                  457.0     0.0   4575.0   \n",
       "6160 2022-09-14 16:00:00         0.0                  451.0     0.0   4573.0   \n",
       "6161 2022-09-14 17:00:00         0.0                  441.0     0.0   4574.0   \n",
       "6162 2022-09-14 18:00:00         0.0                  438.0     0.0   4575.0   \n",
       "\n",
       "       Other  Solar  Wind_Onshore zone  \n",
       "9     1028.0    1.0         397.0  SE3  \n",
       "10    1082.0    4.0         307.0  SE3  \n",
       "11    1107.0    7.0         252.0  SE3  \n",
       "12    1111.0    6.0         230.0  SE3  \n",
       "13    1113.0    4.0         221.0  SE3  \n",
       "...      ...    ...           ...  ...  \n",
       "6158   391.0  224.0         934.0  SE3  \n",
       "6159   376.0  180.0         968.0  SE3  \n",
       "6160   367.0  110.0        1024.0  SE3  \n",
       "6161   366.0   52.0         985.0  SE3  \n",
       "6162   358.0   12.0         959.0  SE3  \n",
       "\n",
       "[3523 rows x 9 columns]"
      ]
     },
     "execution_count": 28,
     "metadata": {},
     "output_type": "execute_result"
    }
   ],
   "source": [
    "se3_power_gen_df[se3_power_gen_df['Solar'] > 0]"
   ]
  },
  {
   "cell_type": "code",
   "execution_count": 10,
   "id": "2a9fae33-e17a-4856-912c-62af1e878289",
   "metadata": {},
   "outputs": [],
   "source": [
    "se_power_gen_fg = fs.get_or_create_feature_group(\n",
    "    name=\"se_power_generation\",\n",
    "    version=1,\n",
    "    description=\"Sweden power generation per type\",\n",
    "    primary_key=[\"zone\"],\n",
    "    event_time=\"mtu\",\n",
    "    online_enabled=False,\n",
    "    statistics_config={\n",
    "        'histograms': True, \n",
    "        'correlations': True\n",
    "    }\n",
    ")"
   ]
  },
  {
   "cell_type": "code",
   "execution_count": null,
   "id": "b81e6d86-4302-4ff4-ac02-54dd572e5a9b",
   "metadata": {},
   "outputs": [
    {
     "name": "stderr",
     "output_type": "stream",
     "text": [
      "FeatureGroupWarning: The ingested dataframe contains upper case letters in feature names: `['MTU', 'Fossil_Gas', 'Hydro_Water_Reservoir', 'Marine', 'Nuclear', 'Other', 'Solar', 'Wind_Onshore']`. Feature names are sanitized to lower case in the feature store.\n"
     ]
    },
    {
     "name": "stdout",
     "output_type": "stream",
     "text": [
      "Feature Group created successfully, explore it at \n",
      "https://2a5f8040-2d0d-11ed-b5c5-c151c2fe58c1.cloud.hopsworks.ai:443/p/7287/fs/7235/fg/14352\n"
     ]
    },
    {
     "data": {
      "application/vnd.jupyter.widget-view+json": {
       "model_id": "9ec471981f69405c92658df381d9ef2c",
       "version_major": 2,
       "version_minor": 0
      },
      "text/plain": [
       "Uploading Dataframe: 0.00% |          | Rows 0/8761 | Elapsed Time: 00:00 | Remaining Time: ?"
      ]
     },
     "metadata": {},
     "output_type": "display_data"
    },
    {
     "name": "stdout",
     "output_type": "stream",
     "text": [
      "Launching offline feature group backfill job...\n",
      "Backfill Job started successfully, you can follow the progress at \n",
      "https://2a5f8040-2d0d-11ed-b5c5-c151c2fe58c1.cloud.hopsworks.ai/p/7287/jobs/named/se_power_generation_1_offline_fg_backfill/executions\n"
     ]
    }
   ],
   "source": [
    "se_power_gen_fg.insert(se3_power_gen_df)"
   ]
  },
  {
   "cell_type": "code",
   "execution_count": 41,
   "id": "f39d8763-fb8f-41f1-b9c0-dde4dadbb170",
   "metadata": {},
   "outputs": [
    {
     "name": "stdout",
     "output_type": "stream",
     "text": [
      "Attached expectation suite to featuregroup, edit it at https://2a5f8040-2d0d-11ed-b5c5-c151c2fe58c1.cloud.hopsworks.ai:443/p/7287/fs/7235/fg/14352\n"
     ]
    }
   ],
   "source": [
    "## Data validation\n",
    "import great_expectations as ge\n",
    "\n",
    "expectation_suite = ge.core.ExpectationSuite(\n",
    "    expectation_suite_name=\"power_gen_exp\"\n",
    ")\n",
    "\n",
    "expectation_suite.add_expectation(\n",
    "    ge.core.ExpectationConfiguration(\n",
    "        expectation_type=\"expect_column_values_to_be_between\",\n",
    "        kwargs={\n",
    "            \"column\": \"nuclear\",\n",
    "            \"min_value\": 0\n",
    "        }\n",
    "    )\n",
    ")\n",
    "\n",
    "expectation_suite.add_expectation(\n",
    "    ge.core.ExpectationConfiguration(\n",
    "        expectation_type=\"expect_column_values_to_be_between\",\n",
    "        kwargs={\n",
    "            \"column\": \"solar\",\n",
    "            \"min_value\": 0\n",
    "        }\n",
    "    )\n",
    ")\n",
    "\n",
    "## Attach expectation suite to the feature group\n",
    "se_power_gen_fg.save_expectation_suite(expectation_suite, run_validation=True, validation_ingestion_policy=\"STRICT\")"
   ]
  },
  {
   "cell_type": "code",
   "execution_count": null,
   "id": "6988267a-ab84-479e-8347-1ae5d37d9c91",
   "metadata": {},
   "outputs": [
    {
     "name": "stdout",
     "output_type": "stream",
     "text": [
      "2022-11-09 09:21:07,378 INFO: USE `electricity_featurestore`\n",
      "2022-11-09 09:21:08,496 INFO: SELECT `fg0`.`mtu` `mtu`, `fg0`.`fossil_gas` `fossil_gas`, `fg0`.`hydro_water_reservoir` `hydro_water_reservoir`, `fg0`.`marine` `marine`, `fg0`.`nuclear` `nuclear`, `fg0`.`other` `other`, `fg0`.`solar` `solar`, `fg0`.`wind_onshore` `wind_onshore`, `fg0`.`zone` `zone`\n",
      "FROM `electricity_featurestore`.`se_power_generation_1` `fg0`\n"
     ]
    },
    {
     "name": "stderr",
     "output_type": "stream",
     "text": [
      "UserWarning: pandas only supports SQLAlchemy connectable (engine/connection) or database string URI or sqlite3 DBAPI2 connection. Other DBAPI2 objects are not tested. Please consider using SQLAlchemy.\n"
     ]
    },
    {
     "name": "stdout",
     "output_type": "stream",
     "text": [
      "2022-11-09 09:21:13,489 INFO: \t2 expectation(s) included in expectation_suite.\n",
      "Validation Report saved successfully, explore a summary at https://2a5f8040-2d0d-11ed-b5c5-c151c2fe58c1.cloud.hopsworks.ai:443/p/7287/fs/7235/fg/14352\n"
     ]
    },
    {
     "data": {
      "text/plain": [
       "ValidationReport(success: True, {'evaluated_expectations': 2, 'successful_expectations': 2, 'unsuccessful_expectations': 0, 'success_percent': 100.0}, 2 results , {'great_expectations_version': '0.14.3', 'expectation_suite_name': 'power_gen_exp', 'run_id': {'run_name': None, 'run_time': '2022-11-09T14:21:13.488450+00:00'}, 'batch_kwargs': {'ge_batch_id': 'c3ed57fa-6039-11ed-907c-9cb6d0d342bd'}, 'batch_markers': {}, 'batch_parameters': {}, 'validation_time': '20221109T142113.488278Z', 'expectation_suite_meta': {'great_expectations_version': '0.14.3'}}, /Projects/electricity/DataValidation/se_power_generation/1/ValidationReports/validation_report_2022-11-09T142921.json)"
      ]
     },
     "execution_count": 21,
     "metadata": {},
     "output_type": "execute_result"
    }
   ],
   "source": [
    "se_power_gen_fg.validate(save_report=True)"
   ]
  },
  {
   "cell_type": "code",
   "execution_count": 35,
   "id": "bb4eb402-ea10-42c0-8213-88fdc9587410",
   "metadata": {},
   "outputs": [],
   "source": [
    "wrong_df = se3_power_gen_df.iloc[[0]]"
   ]
  },
  {
   "cell_type": "code",
   "execution_count": 37,
   "id": "ea76f7c4-053c-4332-a5a8-9c6dd78475ef",
   "metadata": {
    "collapsed": true,
    "jupyter": {
     "outputs_hidden": true
    },
    "tags": []
   },
   "outputs": [
    {
     "name": "stderr",
     "output_type": "stream",
     "text": [
      "SettingWithCopyWarning: \n",
      "A value is trying to be set on a copy of a slice from a DataFrame.\n",
      "Try using .loc[row_indexer,col_indexer] = value instead\n",
      "\n",
      "See the caveats in the documentation: https://pandas.pydata.org/pandas-docs/stable/user_guide/indexing.html#returning-a-view-versus-a-copy\n"
     ]
    }
   ],
   "source": [
    "wrong_df['Nuclear'] = -1.0"
   ]
  },
  {
   "cell_type": "code",
   "execution_count": 42,
   "id": "521b3580-0dd1-4ba1-a2ad-c014970dbb76",
   "metadata": {},
   "outputs": [
    {
     "name": "stderr",
     "output_type": "stream",
     "text": [
      "FeatureGroupWarning: The ingested dataframe contains upper case letters in feature names: `['MTU', 'Fossil_Gas', 'Hydro_Water_Reservoir', 'Marine', 'Nuclear', 'Other', 'Solar', 'Wind_Onshore']`. Feature names are sanitized to lower case in the feature store.\n"
     ]
    },
    {
     "name": "stdout",
     "output_type": "stream",
     "text": [
      "2022-11-09 09:32:28,235 INFO: \t2 expectation(s) included in expectation_suite.\n",
      "Validation Report saved successfully, explore a summary at https://2a5f8040-2d0d-11ed-b5c5-c151c2fe58c1.cloud.hopsworks.ai:443/p/7287/fs/7235/fg/14352\n"
     ]
    },
    {
     "data": {
      "text/plain": [
       "(None,\n",
       " {\n",
       "   \"statistics\": {\n",
       "     \"evaluated_expectations\": 2,\n",
       "     \"successful_expectations\": 1,\n",
       "     \"unsuccessful_expectations\": 1,\n",
       "     \"success_percent\": 50.0\n",
       "   },\n",
       "   \"evaluation_parameters\": {},\n",
       "   \"meta\": {\n",
       "     \"great_expectations_version\": \"0.14.3\",\n",
       "     \"expectation_suite_name\": \"power_gen_exp\",\n",
       "     \"run_id\": {\n",
       "       \"run_name\": null,\n",
       "       \"run_time\": \"2022-11-09T14:32:28.234955+00:00\"\n",
       "     },\n",
       "     \"batch_kwargs\": {\n",
       "       \"ge_batch_id\": \"561b98a2-603b-11ed-907c-9cb6d0d342bd\"\n",
       "     },\n",
       "     \"batch_markers\": {},\n",
       "     \"batch_parameters\": {},\n",
       "     \"validation_time\": \"20221109T143228.234860Z\",\n",
       "     \"expectation_suite_meta\": {\n",
       "       \"great_expectations_version\": \"0.14.3\"\n",
       "     }\n",
       "   },\n",
       "   \"results\": [\n",
       "     {\n",
       "       \"expectation_config\": {\n",
       "         \"meta\": {\n",
       "           \"expectationId\": 1028\n",
       "         },\n",
       "         \"expectation_type\": \"expect_column_values_to_be_between\",\n",
       "         \"kwargs\": {\n",
       "           \"column\": \"nuclear\",\n",
       "           \"min_value\": 0\n",
       "         }\n",
       "       },\n",
       "       \"exception_info\": {\n",
       "         \"raised_exception\": false,\n",
       "         \"exception_message\": null,\n",
       "         \"exception_traceback\": null\n",
       "       },\n",
       "       \"result\": {\n",
       "         \"element_count\": 1,\n",
       "         \"missing_count\": 0,\n",
       "         \"missing_percent\": 0.0,\n",
       "         \"unexpected_count\": 1,\n",
       "         \"unexpected_percent\": 100.0,\n",
       "         \"unexpected_percent_total\": 100.0,\n",
       "         \"unexpected_percent_nonmissing\": 100.0,\n",
       "         \"partial_unexpected_list\": [\n",
       "           -1.0\n",
       "         ]\n",
       "       },\n",
       "       \"meta\": {},\n",
       "       \"success\": false\n",
       "     },\n",
       "     {\n",
       "       \"expectation_config\": {\n",
       "         \"meta\": {\n",
       "           \"expectationId\": 1027\n",
       "         },\n",
       "         \"expectation_type\": \"expect_column_values_to_be_between\",\n",
       "         \"kwargs\": {\n",
       "           \"column\": \"solar\",\n",
       "           \"min_value\": 0\n",
       "         }\n",
       "       },\n",
       "       \"exception_info\": {\n",
       "         \"raised_exception\": false,\n",
       "         \"exception_message\": null,\n",
       "         \"exception_traceback\": null\n",
       "       },\n",
       "       \"result\": {\n",
       "         \"element_count\": 1,\n",
       "         \"missing_count\": 0,\n",
       "         \"missing_percent\": 0.0,\n",
       "         \"unexpected_count\": 0,\n",
       "         \"unexpected_percent\": 0.0,\n",
       "         \"unexpected_percent_total\": 0.0,\n",
       "         \"unexpected_percent_nonmissing\": 0.0,\n",
       "         \"partial_unexpected_list\": []\n",
       "       },\n",
       "       \"meta\": {},\n",
       "       \"success\": true\n",
       "     }\n",
       "   ],\n",
       "   \"success\": false\n",
       " })"
      ]
     },
     "execution_count": 42,
     "metadata": {},
     "output_type": "execute_result"
    }
   ],
   "source": [
    "se_power_gen_fg.insert(wrong_df)"
   ]
  }
 ],
 "metadata": {
  "kernelspec": {
   "display_name": "Python 3 (ipykernel)",
   "language": "python",
   "name": "python3"
  },
  "language_info": {
   "codemirror_mode": {
    "name": "ipython",
    "version": 3
   },
   "file_extension": ".py",
   "mimetype": "text/x-python",
   "name": "python",
   "nbconvert_exporter": "python",
   "pygments_lexer": "ipython3",
   "version": "3.9.13"
  }
 },
 "nbformat": 4,
 "nbformat_minor": 5
}
