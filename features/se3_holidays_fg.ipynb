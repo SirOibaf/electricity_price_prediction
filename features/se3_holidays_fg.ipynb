{
 "cells": [
  {
   "cell_type": "code",
   "execution_count": 1,
   "id": "0f8a19ba-930b-4545-8cfe-7a5b93368ea7",
   "metadata": {},
   "outputs": [],
   "source": [
    "import hopsworks\n",
    "import pandas as pd"
   ]
  },
  {
   "cell_type": "code",
   "execution_count": 2,
   "id": "b54fad2a-4e15-4afd-9c53-bca0820089bd",
   "metadata": {},
   "outputs": [
    {
     "name": "stdout",
     "output_type": "stream",
     "text": [
      "Connected. Call `.close()` to terminate connection gracefully.\n",
      "\n",
      "Logged in to project, explore it here https://2a5f8040-2d0d-11ed-b5c5-c151c2fe58c1.cloud.hopsworks.ai:443/p/7287\n"
     ]
    },
    {
     "name": "stderr",
     "output_type": "stream",
     "text": [
      "DeprecationWarning: the imp module is deprecated in favour of importlib; see the module's documentation for alternative uses\n"
     ]
    },
    {
     "name": "stdout",
     "output_type": "stream",
     "text": [
      "Connected. Call `.close()` to terminate connection gracefully.\n"
     ]
    }
   ],
   "source": [
    "project = hopsworks.login(\n",
    "    host=\"2a5f8040-2d0d-11ed-b5c5-c151c2fe58c1.cloud.hopsworks.ai\",\n",
    "    project=\"electricity\",\n",
    "    api_key_value=\"xIGaDiwBZpXxLYRQ.SgheZwqHTZteASnO1PtPMC4HMgco2OVD6VK6xZN3sKCy96FQT27rF0JbBuFivTTA\",\n",
    ")\n",
    "fs = project.get_feature_store()"
   ]
  },
  {
   "cell_type": "code",
   "execution_count": 6,
   "id": "2900e223-0552-4161-a210-cfed535e0890",
   "metadata": {},
   "outputs": [],
   "source": [
    "# Read local csv file containing holidays\n",
    "se_holidays_pdf = pd.read_csv(\"data/holidays.csv\")\n",
    "\n",
    "# Convert day column to datetime\n",
    "se_holidays_pdf['zone'] = \"SE3\"\n",
    "se_holidays_pdf['day'] = pd.to_datetime(se_holidays_pdf['day'], format='%Y-%m-%d')\n",
    "\n",
    "# Replace strings with 1 if holiday and drop original column\n",
    "se_holidays_pdf['is_holiday'] = se_holidays_pdf['type_of_day'].map(lambda x: 1 if x == \"holiday\" else 0)\n",
    "se_holidays_pdf.drop('type_of_day', inplace=True, axis=1)"
   ]
  },
  {
   "cell_type": "code",
   "execution_count": 7,
   "id": "6cb55e69-5186-4ebe-8f08-d62d3c282b80",
   "metadata": {},
   "outputs": [
    {
     "data": {
      "text/plain": [
       "day           datetime64[ns]\n",
       "zone                  object\n",
       "is_holiday             int64\n",
       "dtype: object"
      ]
     },
     "execution_count": 7,
     "metadata": {},
     "output_type": "execute_result"
    }
   ],
   "source": [
    "se_holidays_pdf.dtypes"
   ]
  },
  {
   "cell_type": "code",
   "execution_count": 14,
   "id": "0cf86f82-58ae-4303-8672-7a2b728dc2c1",
   "metadata": {},
   "outputs": [
    {
     "name": "stdout",
     "output_type": "stream",
     "text": [
      "time travel format: HUDI\n"
     ]
    }
   ],
   "source": [
    "se_holidays_fg = fs.get_or_create_feature_group(\n",
    "    name=\"se_holidays\",\n",
    "    version=1,\n",
    "    description=\"Sweden red days\",\n",
    "    primary_key=[\"zone\"],\n",
    "    event_time=\"day\",\n",
    "    online_enabled=True,\n",
    "    statistics_config={\n",
    "        'histograms': True, \n",
    "        'correlations': True\n",
    "    }\n",
    ")"
   ]
  },
  {
   "cell_type": "code",
   "execution_count": 15,
   "id": "83ce6c7e-064a-4c9f-ae91-0fffe3d0672d",
   "metadata": {},
   "outputs": [
    {
     "name": "stdout",
     "output_type": "stream",
     "text": [
      "time travel format: HUDI\n",
      "Feature Group created successfully, explore it at \n",
      "https://2a5f8040-2d0d-11ed-b5c5-c151c2fe58c1.cloud.hopsworks.ai:443/p/7287/fs/7235/fg/14351\n"
     ]
    },
    {
     "data": {
      "application/vnd.jupyter.widget-view+json": {
       "model_id": "1c4719c675d742cebdbbb9d49699df33",
       "version_major": 2,
       "version_minor": 0
      },
      "text/plain": [
       "Uploading Dataframe: 0.00% |          | Rows 0/1095 | Elapsed Time: 00:00 | Remaining Time: ?"
      ]
     },
     "metadata": {},
     "output_type": "display_data"
    },
    {
     "name": "stdout",
     "output_type": "stream",
     "text": [
      "Launching offline feature group backfill job...\n",
      "Backfill Job started successfully, you can follow the progress at \n",
      "https://2a5f8040-2d0d-11ed-b5c5-c151c2fe58c1.cloud.hopsworks.ai/p/7287/jobs/named/se_holidays_1_offline_fg_backfill/executions\n"
     ]
    },
    {
     "data": {
      "text/plain": [
       "(<hsfs.core.job.Job at 0x7f96112f6b80>, None)"
      ]
     },
     "execution_count": 15,
     "metadata": {},
     "output_type": "execute_result"
    }
   ],
   "source": [
    "se_holidays_fg.insert(se_holidays_pdf)"
   ]
  },
  {
   "cell_type": "code",
   "execution_count": null,
   "id": "7bedee29-50f0-4378-957c-809379c52105",
   "metadata": {},
   "outputs": [],
   "source": []
  }
 ],
 "metadata": {
  "kernelspec": {
   "display_name": "Python 3 (ipykernel)",
   "language": "python",
   "name": "python3"
  },
  "language_info": {
   "codemirror_mode": {
    "name": "ipython",
    "version": 3
   },
   "file_extension": ".py",
   "mimetype": "text/x-python",
   "name": "python",
   "nbconvert_exporter": "python",
   "pygments_lexer": "ipython3",
   "version": "3.9.13"
  }
 },
 "nbformat": 4,
 "nbformat_minor": 5
}
