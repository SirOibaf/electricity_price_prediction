{
 "cells": [
  {
   "cell_type": "code",
   "execution_count": 25,
   "id": "09486ffa-682d-4d81-a7ef-4996e6b8764a",
   "metadata": {},
   "outputs": [],
   "source": [
    "import hopsworks\n",
    "import pandas as pd\n",
    "import requests\n",
    "\n",
    "from math import pi, cos, asin, sqrt"
   ]
  },
  {
   "cell_type": "code",
   "execution_count": 21,
   "id": "6c13037d-115f-449d-bf1c-7c89bb3f7ace",
   "metadata": {},
   "outputs": [],
   "source": [
    "CONST_EARTH_RADIUS = 6371\n",
    "CONST_EARTH_DIAMETER = 12742\n",
    "STATIONS_WITHIN_DISTANCE = 50"
   ]
  },
  {
   "cell_type": "code",
   "execution_count": 2,
   "id": "fcdf9316-1d7f-40cd-a901-0d6e1af5f64c",
   "metadata": {},
   "outputs": [
    {
     "name": "stdout",
     "output_type": "stream",
     "text": [
      "Connected. Call `.close()` to terminate connection gracefully.\n",
      "\n",
      "Logged in to project, explore it here https://2a5f8040-2d0d-11ed-b5c5-c151c2fe58c1.cloud.hopsworks.ai:443/p/7287\n",
      "Connected. Call `.close()` to terminate connection gracefully.\n"
     ]
    },
    {
     "name": "stderr",
     "output_type": "stream",
     "text": [
      "DeprecationWarning: the imp module is deprecated in favour of importlib; see the module's documentation for alternative uses\n"
     ]
    }
   ],
   "source": [
    "project = hopsworks.login(\n",
    "    host=\"2a5f8040-2d0d-11ed-b5c5-c151c2fe58c1.cloud.hopsworks.ai\",\n",
    "    project=\"electricity\",\n",
    "    api_key_value=\"xIGaDiwBZpXxLYRQ.SgheZwqHTZteASnO1PtPMC4HMgco2OVD6VK6xZN3sKCy96FQT27rF0JbBuFivTTA\",\n",
    ")\n",
    "fs = project.get_feature_store()"
   ]
  },
  {
   "cell_type": "code",
   "execution_count": 28,
   "id": "66a18264-1fbf-44fa-b65b-9de97221a4e6",
   "metadata": {},
   "outputs": [],
   "source": [
    "def distance(lat1: float, lon1: float, lat2: float, lon2: float) -> float:\n",
    "    \"\"\"Calculate distance in km between two geographical points.\n",
    "    Args:\n",
    "        lat1 (float): Latitude of point 1.\n",
    "        lon1 (float): Longitude of point 1.\n",
    "        lat2 (float): Latitude of point 2.\n",
    "        lon2 (float): Longitude of point 2.\n",
    "    Returns:\n",
    "        float: Haversine distance in km between point 1 and 2.\n",
    "    \"\"\"\n",
    "    p = pi / 180.0\n",
    "    a = 0.5 - cos((lat2 - lat1) * p) / 2.0 + cos(lat1 * p) * cos(lat2 * p) * (1.0 - cos((lon2 - lon1) * p)) / 2\n",
    "    return CONST_EARTH_DIAMETER * asin(sqrt(a)) \n",
    "\n",
    "def hsmi_measurment_data(measurement, period):\n",
    "    city_name = \"Stockholm\"\n",
    "\n",
    "    # \"Stockholm\", \"Malmö\", \"Luleå\", \"Sundsvall\"\n",
    "    city_coordinates = pd.read_csv(\"https://repo.hops.works/dev/davit/electricity/city_coordinates.csv\")\n",
    "    city_coordinates = city_coordinates[city_coordinates.City == city_name]\n",
    "\n",
    "    #39 --> # aggpunktstemperatur --> momentanvärde, 1 gång/tim\n",
    "    if measurement == \"temp_per_last_hour\":\n",
    "        parameter = 39\n",
    "\n",
    "    #2 -->  Lufttemperatur --> medelvärde 1 dygn, 1 gång/dygn, kl 00\n",
    "    if measurement == \"mean_temp_per_day\":\n",
    "        parameter = 2\n",
    "    #18 --> Nederbörd --> 1 gång/dygn, kl 18\n",
    "    elif measurement == \"precipitaton_type\":\n",
    "        parameter = 18\n",
    "\n",
    "    #14 --> Nederbördsmängd --> summa 15 min, 4 gånger/tim\n",
    "    elif measurement == \"precipitaton_amount\":\n",
    "        parameter = 14\n",
    "\n",
    "    #7 --> Nederbördsmängd --> summa 1 timme, 1 gång/tim\n",
    "    if measurement == \"precipitaton_amount_last_hour\":\n",
    "        parameter = 7\n",
    "\n",
    "    #10 --> Solskenstid --> summa 1 timme, 1 gång/tim;second\n",
    "    elif measurement == \"sunshine_time\":\n",
    "        parameter = 10\n",
    "\n",
    "    #16 --> Total molnmängd --> momentanvärde, 1 gång/tim;percent\n",
    "    elif measurement == \"cloud_perc\":\n",
    "        parameter = 16\n",
    "\n",
    "    #4 --> Vindhastighet  --> medelvärde 10 min, 1 gång/tim;metre per second\n",
    "    elif measurement == \"wind_speed\":\n",
    "        parameter = 4\n",
    "\n",
    "    stations_url = f\"https://opendata-download-metobs.smhi.se/api/version/latest/parameter/{parameter}.json\"\n",
    "    stations_resp = requests.get(url= stations_url)\n",
    "    stations_pdf = pd.DataFrame(stations_resp.json()[\"station\"])[[\"name\",\"measuringStations\", \"id\", \"latitude\", \"longitude\", \"active\", \"key\", \"updated\"]]\n",
    "    stations_pdf = stations_pdf[stations_pdf.active == True]\n",
    "\n",
    "    # select station in STATIONS_WITHIN_DISTANCE km radius\n",
    "    stations_pdf[\"distance\"] = stations_pdf.apply(lambda x: distance(city_coordinates.latitude.values[0], city_coordinates.longitude.values[0], x.latitude, x.longitude), axis=1)\n",
    "    stations_pdf = stations_pdf[stations_pdf.distance < STATIONS_WITHIN_DISTANCE]\n",
    "\n",
    "    if parameter in [2, 18, 5]:\n",
    "        skiprows = 12\n",
    "        column_names = [\"from\", \"to\", \"day\", measurement,\"quality\", \"time_slice\", \"comment\"]\n",
    "    elif parameter in [10, 16, 4, 39, 14]:\n",
    "        skiprows = 11\n",
    "        column_names = [\"day\", \"time\", measurement,\"quality\", \"time_slice\", \"comment\"]\n",
    "\n",
    "    measurment_by_city = pd.DataFrame(columns=column_names)\n",
    "    for station_id in stations_pdf.id:\n",
    "        if parameter in [2, 18, 5, 10, 16, 4, 39, 14]:\n",
    "            url = f\"https://opendata-download-metobs.smhi.se/api/version/latest/parameter/{parameter}/station/{station_id}/period/{period}/data.csv\"\n",
    "            try:\n",
    "                if period == \"corrected-archive\":\n",
    "                    pdf = pd.read_csv(url, sep=';', skiprows=skiprows, names= column_names)\n",
    "                elif period == \"latest-months\":\n",
    "                    pdf = pd.read_csv(url, sep=';', skiprows=skiprows, names= column_names)\n",
    "                elif period == \"latest-day\":\n",
    "                    pdf = pd.read_csv(url, sep=';', skiprows=skiprows, names= column_names)\n",
    "                #pdf[\"area\"] = area_name\n",
    "                pdf = pdf[pdf[\"day\"] > \"2020-12-31\"]\n",
    "                measurment_by_city = pd.concat([measurment_by_city, pdf])\n",
    "            except Exception:\n",
    "                pass\n",
    "            if parameter in [2, 18, 5]:\n",
    "                measurment_by_city = measurment_by_city.drop([\"from\", \"to\"], axis=1)\n",
    "            measurment_by_city = measurment_by_city.drop([\"quality\", \"time_slice\", \"comment\"], axis=1)\n",
    "            measurment_by_city = measurment_by_city.dropna()\n",
    "        return measurment_by_city\n",
    "    \n",
    "\n",
    "def fetch_smhi_measurements(historical_data = False):\n",
    "    measurements = [\"mean_temp_per_day\", \"wind_speed\", \"precipitaton_type\", \"precipitaton_amount\", \"sunshine_time\", \"cloud_perc\"]\n",
    "    meteorological_measurements = pd.DataFrame(columns=[\"day\"])\n",
    "    for measurement in measurements:\n",
    "        meteorological_measurements_per_area = pd.DataFrame(columns=[\"day\"])\n",
    "        for area in [\"SE3\"]:\n",
    "            smhi_df = pd.DataFrame(columns=[\"day\", measurement])\n",
    "            if historical_data:\n",
    "                smhi_df = pd.concat([smhi_df, hsmi_measurment_data(measurement, \"corrected-archive\")])\n",
    "                smhi_df = pd.concat([smhi_df, hsmi_measurment_data(measurement, \"latest-months\")])\n",
    "            else:\n",
    "                if measurement == \"mean_temp_per_day\":\n",
    "                    smhi_df_day = hsmi_measurment_data(\"temp_per_last_hour\", \"latest-day\").drop(\"time\", axis=1)\n",
    "                    smhi_df_day.columns = [\"day\", measurement]\n",
    "                    smhi_df = pd.concat([smhi_df, smhi_df_day])\n",
    "                else:\n",
    "                    smhi_df = pd.concat([smhi_df, hsmi_measurment_data(measurement, \"latest-day\")])\n",
    "            if measurement == \"mean_temp_per_day\":\n",
    "                smhi_df = smhi_df[smhi_df[measurement] != \"Lufttemperatur\"]\n",
    "                smhi_df = smhi_df[smhi_df[measurement] != \"Daggpunktstemperatur\"]\n",
    "                smhi_df[measurement] = smhi_df[measurement].map(lambda x: float(x))\n",
    "                smhi_df = smhi_df.groupby([\"day\"]).agg({measurement: ['mean']}).reset_index()\n",
    "                smhi_df.columns = [\"day\", measurement]\n",
    "            elif measurement == \"wind_speed\":\n",
    "                smhi_df = smhi_df[smhi_df[measurement] != \"Vindhastighet\"]\n",
    "                smhi_df[measurement] = smhi_df[measurement].map(lambda x: float(x))\n",
    "                smhi_df = smhi_df.groupby([\"day\"]).agg({'wind_speed': ['mean']}).reset_index()\n",
    "                smhi_df.columns = [\"day\", f\"mean_{measurement}\"]\n",
    "            elif measurement == \"precipitaton_amount\":\n",
    "                smhi_df = smhi_df[smhi_df[measurement] != \"Nederbördsmängd\"]\n",
    "                smhi_df[measurement] = smhi_df[measurement].map(lambda x: float(x))\n",
    "                smhi_df = smhi_df.groupby([\"day\"]).agg({measurement: ['mean']}).reset_index()\n",
    "                smhi_df.columns = [\"day\", measurement]\n",
    "            elif measurement == \"sunshine_time\":\n",
    "                smhi_df = smhi_df.groupby([\"day\"]).agg({measurement: [\"sum\"]}).reset_index()\n",
    "                smhi_df.columns = [\"day\", f\"total_{measurement}\"]\n",
    "            elif measurement == \"cloud_perc\":\n",
    "                smhi_df = smhi_df[smhi_df[measurement] != \"Total molnmängd\"]\n",
    "                smhi_df[measurement] = smhi_df[measurement].map(lambda x: float(x))\n",
    "                smhi_df = smhi_df.groupby([\"day\"]).agg({measurement: ['mean']}).reset_index()\n",
    "                smhi_df.columns = [\"day\", f\"mean_{measurement}\"]\n",
    "            smhi_df.columns = [smhi_df.columns[0], f\"{smhi_df.columns[1]}_{area}\"]\n",
    "            #meteorological_measurements_per_area = pd.concat([meteorological_measurements_per_area, smhi_df])\n",
    "            meteorological_measurements_per_area = meteorological_measurements_per_area.merge(smhi_df, on=[\"day\"], how = \"outer\")\n",
    "        meteorological_measurements = meteorological_measurements.merge(meteorological_measurements_per_area, on=[\"day\"], how = \"outer\")\n",
    "\n",
    "    for area in [\"SE3\"]:\n",
    "        meteorological_measurements[f\"precipitaton_type_{area}\"] = meteorological_measurements[f\"precipitaton_type_{area}\"].fillna(\"missing\")\n",
    "        meteorological_measurements[f\"precipitaton_amount_{area}\"] = meteorological_measurements[f\"precipitaton_amount_{area}\"].fillna(0.0)\n",
    "        meteorological_measurements[f\"mean_wind_speed_{area}\"] = meteorological_measurements[f\"mean_wind_speed_{area}\"].fillna(0.0)\n",
    "        meteorological_measurements[f\"total_sunshine_time_{area}\"] = meteorological_measurements[f\"total_sunshine_time_{area}\"].fillna(0.0)\n",
    "        meteorological_measurements[f\"mean_cloud_perc_{area}\"] = meteorological_measurements[f\"mean_cloud_perc_{area}\"].fillna(0.0)\n",
    "        meteorological_measurements.sort_values([\"day\"], inplace=True)\n",
    "        \n",
    "    return meteorological_measurements"
   ]
  },
  {
   "cell_type": "code",
   "execution_count": 32,
   "id": "804b8c38-2c0f-4c26-8020-e5ef5184b605",
   "metadata": {},
   "outputs": [
    {
     "name": "stderr",
     "output_type": "stream",
     "text": [
      "DtypeWarning: Columns (5) have mixed types. Specify dtype option on import or set low_memory=False.\n",
      "DtypeWarning: Columns (5) have mixed types. Specify dtype option on import or set low_memory=False.\n",
      "DtypeWarning: Columns (5) have mixed types. Specify dtype option on import or set low_memory=False.\n",
      "DtypeWarning: Columns (5) have mixed types. Specify dtype option on import or set low_memory=False.\n"
     ]
    }
   ],
   "source": [
    "weather_df = fetch_smhi_measurements(True)"
   ]
  },
  {
   "cell_type": "code",
   "execution_count": 38,
   "id": "eaa123d5-94b7-42d7-95fc-d2f2c229d052",
   "metadata": {},
   "outputs": [],
   "source": [
    "weather_df['zone'] = \"SE3\"\n",
    "weather_df['day'] = pd.to_datetime(weather_df['day'], format='%Y-%m-%d')"
   ]
  },
  {
   "cell_type": "code",
   "execution_count": 40,
   "id": "6c0d759c-1de7-4b11-a45f-7fa32a55d644",
   "metadata": {},
   "outputs": [],
   "source": [
    "se_weather_fg = fs.get_or_create_feature_group(\n",
    "    name=\"se_weather_fg\",\n",
    "    version=1,\n",
    "    description=\"Swedish weather features\",\n",
    "    primary_key=[\"zone\"],\n",
    "    event_time=\"day\",\n",
    "    online_enabled=False,\n",
    "    statistics_config={\n",
    "        'histograms': True, \n",
    "        'correlations': True\n",
    "    }\n",
    ")"
   ]
  },
  {
   "cell_type": "code",
   "execution_count": 41,
   "id": "56a24df8-402c-401a-b980-17673111fe86",
   "metadata": {},
   "outputs": [
    {
     "name": "stderr",
     "output_type": "stream",
     "text": [
      "FeatureGroupWarning: The ingested dataframe contains upper case letters in feature names: `['mean_temp_per_day_SE3', 'mean_wind_speed_SE3', 'precipitaton_type_SE3', 'precipitaton_amount_SE3', 'total_sunshine_time_SE3', 'mean_cloud_perc_SE3']`. Feature names are sanitized to lower case in the feature store.\n"
     ]
    },
    {
     "name": "stdout",
     "output_type": "stream",
     "text": [
      "Feature Group created successfully, explore it at \n",
      "https://2a5f8040-2d0d-11ed-b5c5-c151c2fe58c1.cloud.hopsworks.ai:443/p/7287/fs/7235/fg/14359\n"
     ]
    },
    {
     "data": {
      "application/vnd.jupyter.widget-view+json": {
       "model_id": "3d423407af9143839235db1af37549c4",
       "version_major": 2,
       "version_minor": 0
      },
      "text/plain": [
       "Uploading Dataframe: 0.00% |          | Rows 0/676 | Elapsed Time: 00:00 | Remaining Time: ?"
      ]
     },
     "metadata": {},
     "output_type": "display_data"
    },
    {
     "name": "stdout",
     "output_type": "stream",
     "text": [
      "Launching offline feature group backfill job...\n",
      "Backfill Job started successfully, you can follow the progress at \n",
      "https://2a5f8040-2d0d-11ed-b5c5-c151c2fe58c1.cloud.hopsworks.ai/p/7287/jobs/named/se_weather_fg_1_offline_fg_backfill/executions\n"
     ]
    },
    {
     "data": {
      "text/plain": [
       "(<hsfs.core.job.Job at 0x7f77f082d0a0>, None)"
      ]
     },
     "execution_count": 41,
     "metadata": {},
     "output_type": "execute_result"
    }
   ],
   "source": [
    "se_weather_fg.insert(weather_df)"
   ]
  }
 ],
 "metadata": {
  "kernelspec": {
   "display_name": "Python 3 (ipykernel)",
   "language": "python",
   "name": "python3"
  },
  "language_info": {
   "codemirror_mode": {
    "name": "ipython",
    "version": 3
   },
   "file_extension": ".py",
   "mimetype": "text/x-python",
   "name": "python",
   "nbconvert_exporter": "python",
   "pygments_lexer": "ipython3",
   "version": "3.9.13"
  }
 },
 "nbformat": 4,
 "nbformat_minor": 5
}
